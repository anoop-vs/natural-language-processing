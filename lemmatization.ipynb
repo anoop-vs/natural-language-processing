{
 "cells": [
  {
   "cell_type": "code",
   "execution_count": 6,
   "id": "1acf6720-fb4b-473d-b69e-b76fee5dc3e5",
   "metadata": {},
   "outputs": [
    {
     "name": "stdout",
     "output_type": "stream",
     "text": [
      "Original words: ['Generously', 'Fairly', 'Sing', 'Changing', 'better']\n",
      "Lemmas: ['Generously', 'Fairly', 'Sing', 'Changing', 'better']\n"
     ]
    }
   ],
   "source": [
    "#The following code demonstrates the Lemmatization\n",
    "from nltk.stem import WordNetLemmatizer\n",
    "\n",
    "# Initialize lemmatizer\n",
    "lemmatizer = WordNetLemmatizer()\n",
    "\n",
    "# Example words\n",
    "#words = [\"running\", \"ran\", \"runs\", \"better\", \"cats\", \"dogs\"]\n",
    "words = [\"Generously\", \"Fairly\", \"Sing\", \"Changing\", \"better\"]\n",
    "\n",
    "# Lemmatize words\n",
    "lemmas = [lemmatizer.lemmatize(word) for word in words]\n",
    "\n",
    "# Print lemmas\n",
    "print(\"Original words:\", words)\n",
    "print(\"Lemmas:\", lemmas)"
   ]
  }
 ],
 "metadata": {
  "kernelspec": {
   "display_name": "Python 3 (ipykernel)",
   "language": "python",
   "name": "python3"
  },
  "language_info": {
   "codemirror_mode": {
    "name": "ipython",
    "version": 3
   },
   "file_extension": ".py",
   "mimetype": "text/x-python",
   "name": "python",
   "nbconvert_exporter": "python",
   "pygments_lexer": "ipython3",
   "version": "3.9.11"
  }
 },
 "nbformat": 4,
 "nbformat_minor": 5
}

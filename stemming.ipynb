{
 "cells": [
  {
   "cell_type": "code",
   "execution_count": 5,
   "id": "88d927b6-2d68-4a93-bf7b-091ce86c469b",
   "metadata": {},
   "outputs": [
    {
     "name": "stdout",
     "output_type": "stream",
     "text": [
      "Porter Stemmer: ['gener', 'fairli', 'sing', 'chang', 'better']\n",
      "Lancaster Stemmer: ['gen', 'fair', 'sing', 'chang', 'bet']\n",
      "Snowball Stemmer (Porter2): ['generous', 'fair', 'sing', 'chang', 'better']\n"
     ]
    }
   ],
   "source": [
    "#The following code demonstrates different types of stemming algorithms\n",
    "from nltk.stem import PorterStemmer, LancasterStemmer, SnowballStemmer\n",
    "\n",
    "# Example text\n",
    "#text = \"Playing Played Plays\"\n",
    "text = \"Generous Fairly Sing Changing better\"\n",
    "\n",
    "# Porter Stemmer\n",
    "porter = PorterStemmer()\n",
    "porter_stems = [porter.stem(word) for word in text.split()]\n",
    "print(\"Porter Stemmer:\", porter_stems)\n",
    "\n",
    "# Lancaster Stemmer\n",
    "lancaster = LancasterStemmer()\n",
    "lancaster_stems = [lancaster.stem(word) for word in text.split()]\n",
    "print(\"Lancaster Stemmer:\", lancaster_stems)\n",
    "\n",
    "# Snowball Stemmer (Porter2)\n",
    "snowball = SnowballStemmer(language='english')\n",
    "snowball_stems = [snowball.stem(word) for word in text.split()]\n",
    "print(\"Snowball Stemmer (Porter2):\", snowball_stems)"
   ]
  }
 ],
 "metadata": {
  "kernelspec": {
   "display_name": "Python 3 (ipykernel)",
   "language": "python",
   "name": "python3"
  },
  "language_info": {
   "codemirror_mode": {
    "name": "ipython",
    "version": 3
   },
   "file_extension": ".py",
   "mimetype": "text/x-python",
   "name": "python",
   "nbconvert_exporter": "python",
   "pygments_lexer": "ipython3",
   "version": "3.9.11"
  }
 },
 "nbformat": 4,
 "nbformat_minor": 5
}

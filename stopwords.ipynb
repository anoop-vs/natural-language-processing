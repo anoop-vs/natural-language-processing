{
 "cells": [
  {
   "cell_type": "code",
   "execution_count": 3,
   "id": "c1cbb44c-21f7-4333-971f-10cadab62475",
   "metadata": {},
   "outputs": [
    {
     "name": "stdout",
     "output_type": "stream",
     "text": [
      "Original words: ['This', 'is', 'a', 'sample', 'sentence', 'demonstrating', 'stopword', 'removal', 'in', 'natural', 'language', 'processing']\n",
      "Words after stopwords removal: ['sample', 'sentence', 'demonstrating', 'stopword', 'removal', 'natural', 'language', 'processing']\n"
     ]
    },
    {
     "name": "stderr",
     "output_type": "stream",
     "text": [
      "[nltk_data] Downloading package stopwords to\n",
      "[nltk_data]     C:\\Users\\Dr.Anoop\\AppData\\Roaming\\nltk_data...\n",
      "[nltk_data]   Package stopwords is already up-to-date!\n"
     ]
    }
   ],
   "source": [
    "#The following code will demonstrate the stopwords removal in NLP using NLTK\n",
    "\n",
    "import nltk\n",
    "from nltk.corpus import stopwords\n",
    "from nltk.tokenize import word_tokenize\n",
    "\n",
    "# Download stopwords list if not already downloaded\n",
    "nltk.download('stopwords')\n",
    "#nltk.download('punkt')\n",
    "\n",
    "# Example sentence\n",
    "sentence = \"This is a sample sentence demonstrating stopword removal in natural language processing\"\n",
    "#sentence = \"Natural language processing (NLP) is a field of artificial intelligence concerned with the interaction between computers and humans in natural language. NLP enables computers to understand, interpret, and generate human language in a way that is both useful and meaningful. One common preprocessing step in NLP is stopwords removal, which involves filtering out common words that do not carry much semantic meaning, such as articles, prepositions, and conjunctions.\"\n",
    "\n",
    "# Tokenize the sentence into words\n",
    "words = word_tokenize(sentence)\n",
    "\n",
    "# Get English stopwords\n",
    "stop_words = set(stopwords.words('english'))\n",
    "\n",
    "# Remove stopwords from the tokenized words\n",
    "filtered_words = [word for word in words if word.lower() not in stop_words]\n",
    "\n",
    "# Print the filtered words\n",
    "print(\"Original words:\", words)\n",
    "print(\"Words after stopwords removal:\", filtered_words)\n"
   ]
  }
 ],
 "metadata": {
  "kernelspec": {
   "display_name": "Python 3 (ipykernel)",
   "language": "python",
   "name": "python3"
  },
  "language_info": {
   "codemirror_mode": {
    "name": "ipython",
    "version": 3
   },
   "file_extension": ".py",
   "mimetype": "text/x-python",
   "name": "python",
   "nbconvert_exporter": "python",
   "pygments_lexer": "ipython3",
   "version": "3.9.11"
  }
 },
 "nbformat": 4,
 "nbformat_minor": 5
}

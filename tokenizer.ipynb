{
 "cells": [
  {
   "cell_type": "code",
   "execution_count": 1,
   "id": "bb86aef4-13d0-44a7-be2e-c5674022bd44",
   "metadata": {},
   "outputs": [
    {
     "name": "stdout",
     "output_type": "stream",
     "text": [
      "['I', 'love', 'NLP', '!']\n"
     ]
    }
   ],
   "source": [
    "#word tokenizer\n",
    "from nltk.tokenize import word_tokenize\n",
    "text = \"I love NLP!\"\n",
    "tokens = word_tokenize(text)\n",
    "print(tokens)"
   ]
  },
  {
   "cell_type": "code",
   "execution_count": 2,
   "id": "2582ba45-88c2-4412-af6b-bf7df010f3ee",
   "metadata": {},
   "outputs": [
    {
     "name": "stdout",
     "output_type": "stream",
     "text": [
      "['This is a sentence.', 'This is another sentence.']\n"
     ]
    }
   ],
   "source": [
    "#sentence tokenizer\n",
    "from nltk.tokenize import sent_tokenize\n",
    "text = \"This is a sentence. This is another sentence.\"\n",
    "sentences = sent_tokenize(text)\n",
    "print(sentences)"
   ]
  },
  {
   "cell_type": "code",
   "execution_count": 8,
   "id": "73921074-a77e-42e7-975b-8f352c13a771",
   "metadata": {},
   "outputs": [
    {
     "name": "stdout",
     "output_type": "stream",
     "text": [
      "['Tokenization', 'is', 'important!']\n"
     ]
    }
   ],
   "source": [
    "#whitespace tokenizer\n",
    "from nltk.tokenize import WhitespaceTokenizer\n",
    "text = \"Tokenization is important!\"\n",
    "tokenizer = WhitespaceTokenizer()\n",
    "tokens = tokenizer.tokenize(text)\n",
    "print(tokens)"
   ]
  },
  {
   "cell_type": "code",
   "execution_count": 2,
   "id": "da06d220-adf7-4346-a584-fdba12656d81",
   "metadata": {},
   "outputs": [
    {
     "name": "stdout",
     "output_type": "stream",
     "text": [
      "['N', 'a', 't', 'u', 'r', 'a', 'l', ' ', 'L', 'a', 'n', 'g', 'u', 'a', 'g', 'e', ' ', 'P', 'r', 'o', 'c', 'e', 's', 's', 'i', 'n', 'g']\n"
     ]
    }
   ],
   "source": [
    "#character tokenizer\n",
    "text = \"Natural Language Processing\"\n",
    "tokens = list(text)\n",
    "print(tokens)"
   ]
  },
  {
   "cell_type": "code",
   "execution_count": 11,
   "id": "664ed00d-e96d-4d63-bf09-7197e84c42b2",
   "metadata": {},
   "outputs": [
    {
     "name": "stdout",
     "output_type": "stream",
     "text": [
      "[('Natural', 'language'), ('language', 'processing'), ('processing', 'is'), ('is', 'awesome')]\n"
     ]
    }
   ],
   "source": [
    "#n-gram tokenizer\n",
    "from nltk.util import ngrams\n",
    "from nltk.tokenize import word_tokenize\n",
    "\n",
    "text = \"Natural language processing is awesome\"\n",
    "tokens = word_tokenize(text)\n",
    "n = 2\n",
    "ngrams_list = list(ngrams(tokens, n))\n",
    "print(ngrams_list)"
   ]
  }
 ],
 "metadata": {
  "kernelspec": {
   "display_name": "Python 3 (ipykernel)",
   "language": "python",
   "name": "python3"
  },
  "language_info": {
   "codemirror_mode": {
    "name": "ipython",
    "version": 3
   },
   "file_extension": ".py",
   "mimetype": "text/x-python",
   "name": "python",
   "nbconvert_exporter": "python",
   "pygments_lexer": "ipython3",
   "version": "3.9.11"
  }
 },
 "nbformat": 4,
 "nbformat_minor": 5
}
